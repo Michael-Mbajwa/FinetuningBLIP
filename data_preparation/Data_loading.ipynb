{
 "cells": [
  {
   "cell_type": "markdown",
   "metadata": {},
   "source": [
    "# Loading the Image dataset"
   ]
  },
  {
   "cell_type": "markdown",
   "metadata": {},
   "source": [
    "# GOAL\n",
    "## Prepare MY annotation file in a similar format as the coco captioning file (coco_karpathy_train.json), and create a dataset following coco_karpathy_dataset.py."
   ]
  },
  {
   "cell_type": "code",
   "execution_count": 1,
   "metadata": {},
   "outputs": [],
   "source": [
    "import pandas as pd\n",
    "import matplotlib.pyplot as plt\n",
    "import numpy as np\n",
    "import matplotlib.image as mpimg\n",
    "import os\n",
    "import re\n",
    "from sklearn.model_selection import train_test_split\n",
    "\n",
    "from PIL import Image\n",
    "import json"
   ]
  },
  {
   "cell_type": "code",
   "execution_count": 2,
   "metadata": {},
   "outputs": [],
   "source": [
    "# To read all the images\n",
    "def load_images(folder):\n",
    "    images = []\n",
    "    image_id = []\n",
    "    for filename in os.listdir(folder):\n",
    "        img = os.path.join(folder, filename)\n",
    "        if img is not None:\n",
    "            images.append(img)\n",
    "            # Add the name of image as well while removing any .jpg\n",
    "            image_id.append(filename[:len(filename)-4])\n",
    "    \n",
    "    return images, image_id"
   ]
  },
  {
   "cell_type": "code",
   "execution_count": 3,
   "metadata": {},
   "outputs": [],
   "source": [
    "images, filenames = load_images(\"/home/users/mmbajwa/BLIP/screenshots\")"
   ]
  },
  {
   "cell_type": "code",
   "execution_count": 4,
   "metadata": {},
   "outputs": [
    {
     "name": "stdout",
     "output_type": "stream",
     "text": [
      "There are 1460 image files.\n"
     ]
    }
   ],
   "source": [
    "print(\"There are\", len(images), \"image files.\")"
   ]
  },
  {
   "cell_type": "markdown",
   "metadata": {},
   "source": [
    "# Loading the image descriptions dataset\n",
    "### The dataset was manually cleaned. Wrong captions were manually removed."
   ]
  },
  {
   "cell_type": "code",
   "execution_count": 5,
   "metadata": {},
   "outputs": [],
   "source": [
    "# The above noisy data were gotten by manually studying the dataset.\n",
    "noisy_captions = [\n",
    "    'A search engine.',\n",
    "    'An app with some questions.',\n",
    "    'This is a screenshot taken by a chat.',\n",
    "    'its something like news page.',\n",
    "    'This should be a screenshot taken by a game.',\n",
    "    'The text doesnt match whats happening on screen or give any information on what the app does or how to use it.',\n",
    "    'This looks like the log on screen to some sort of device or app. Not sure whether this 100% the login screen for a computer or not.',\n",
    "    'tells me what i need to do.',\n",
    "    'Traveling app.',\n",
    "    'It shows economic news.',\n",
    "    'A Blog.',\n",
    "    'Another APP in non English so I have no idea what is going on.',\n",
    "    'The description appears to describe the app accurately.  I can see tv show icons to click on and presumably view.',\n",
    "    'very simple home page.',\n",
    "    'simple and easy to understand startup page.',\n",
    "    'dont understand the language.',\n",
    "    'the app is for cosmetics.',\n",
    "    'It shows an online shop.',\n",
    "    'Seems to be a screenshot of a media news website.',\n",
    "    'a screenshot of an Asian app selling Asian products.',\n",
    "    'This app turns light the screen when the screenshot has been taken.',\n",
    "    'A screenshot of an apps ;About; tab.',\n",
    "    'its the main screen for a news app.',\n",
    "    'Settings of certain app.',\n",
    "    'Its pretty easy market app.',\n",
    "    'Personal settings details.',\n",
    "    'it looks like settings.',\n",
    "    'screenshot of a travel app.',\n",
    "    'The app for searching new home.',\n",
    "    'Translation App.',\n",
    "    'the screenshot looks like a social media app.',\n",
    "    'screenshot of an app where you can download and read books.',\n",
    "    'Screenshot looks to be a live webcam of a city. Description doesnt identify this and does not go into any details.',\n",
    "    'I dont understand how the description thinks this is a news screen. I have no idea how to use the app based on the description.',\n",
    "    'The screenshot shows that the app is some kind of game but it is very unclear and gives no information about it. It doesnt show you how to use it.',\n",
    "    'This is clear that it is a screenshot of a mobile phone.',\n",
    "    'its the main screen for a sports news app.',\n",
    "    'a screenshot of an app on a phone.',\n",
    "    'The design is nice and looks to show what is in the app.',\n",
    "    'This is informative in what the screenshot shows and also how to gain access to the app.',\n",
    "    'Social media app.',\n",
    "    'screenshot of some game.',\n",
    "    'The screenshot is very clear and explains what the app does and is easy to understand.',\n",
    "    'the app screenshot really  looks like it hard to navigate with so little information.',\n",
    "    'This may be a screenshot taken by an e-commerce website.',\n",
    "    'This screenshot should be taken by a sport news app.',\n",
    "    'The screenshot shows a menu on an app but this does not explain what the app is about or how you can use it.',\n",
    "    'It highlights the wrong information. It didnt cativate my attention.',\n",
    "    'Streaming service app.',\n",
    "    'Seems like a study organization app.',\n",
    "    'That screen looks like usual dating app.',\n",
    "    'An app for watching TV shows.',\n",
    "    'In this screenshot you clearly know to do.',\n",
    "    'It depicts various teams.',\n",
    "    'standard logon form.',\n",
    "    'A Clothing app.',\n",
    "    'its just a speaker.',\n",
    "    'The app looks like it could be a doujinshi app for anime.',\n",
    "    'Screenshot of a news app.',\n",
    "    'It literally explains all you have to know.',\n",
    "    'it shows some shopping site/app.',\n",
    "    'This screenshot should be taken by an e-commerce website or app, showing different options.',\n",
    "    'The description describes a settings app which from the picture, appears to be the case.',\n",
    "    'The content describes what the fairs would be in relation to booking a trip, but offers little in the way of information on how to use the app.',\n",
    "    'Different tabs of businesses are shown in the screenshot but because the description is ;Caption not found,; its difficult to interpret the purpose of the app.',\n",
    "    'News app.',\n",
    "    'Sign in screenshot for Nest App.',\n",
    "    'It shows you car to buy.',\n",
    "    'App with input screens that you hew to fill out.',\n",
    "    'Interface to recharge phone.',\n",
    "    'An app to sign up for the gym.',\n",
    "    'The description tells you what the app will do, but not how to use it. It does look easy to use.',\n",
    "    'Its a website that sells clothing. Its hard to tell if the icons on the left just categorize the products, or is indeed some sort of tutorial.',\n",
    "    'I know the screenshot is taken from a smart phone but the screenshot doesnt tell me anything about the app or how I could use it.',\n",
    "    'Its shows question and you have answers down.',\n",
    "    'a setting menu from a phone.',\n",
    "    'Its actually a news app, but it more like a music/fashion news app.',\n",
    "    'list of possible push types.',\n",
    "    'select a pack for gta but cant really see.',\n",
    "    'Shows graphics of game.',\n",
    "    'Its an app for multiple food places to order from.',\n",
    "    'it looks like a well thought out login page.',\n",
    "    'regular app login with background image.',\n",
    "    'doge meme maker.',\n",
    "    'An app designed to learn video editing and other similar technologies.',\n",
    "    'Game for children.',\n",
    "    'its a logging menu.',\n",
    "    'The screenshot is clear which categories you wish to select, the description is clear.',\n",
    "    'It is of an app that helps you find places to rent.',\n",
    "    'The screenshot is of a house renting app.',\n",
    "    'Wallet app screenshot.',\n",
    "    'The body workout application.',\n",
    "    'Mayo Clinic, LogIn interface.',\n",
    "    'There is some sports app.',\n",
    "    'Its very good app to check your weight. Its easy to use and to understand.',\n",
    "    'It describes the elements on the screen, but not whats theyre about.',\n",
    "    'A list .',\n",
    "    'Just a screenshot of a measuring app.',\n",
    "    'Its a photoshopped screenshot of a phone in a screenshot of an app that says Advanced call log with location.',\n",
    "    'It is a screen shot of a cell phone like the description says. The written description doesnt explain how to use the app but the photo shows me where to enter my username and password and how to log in.',\n",
    "    'The description is relatively sparse and uninformative. The screenshot content is very clear and it is obvious what action needs to be taken to move forward with the page/app process.',\n",
    "    'Pop up screen to help identify the location of a VIN. The description appears to explain what the screenshot is showing but no actions. Terminology is used that i do not recognise.',\n",
    "    'Looks like stickers, no description on how to use this. Just pictures or something I can interact with? It talks about the categories but doesnt really help me understand what to do/use.',\n",
    "    'The description is clear and invites you to click one of the other tabs along the top of the screen. There might be more detailed information with regard to what to do next.',\n",
    "    'We know its a screenshot of a cell phone. But we are supposed to discuss what its about! This is for trying to find a car you would like.',\n",
    "    'It is a app that suply us with all type off food needs that we can have, it has a interesting layout and a really good original idea on the bottom showing all the recent places we have viewed.',\n",
    "    'page from where the user is redirected to his internet provider to log in.',\n",
    "    'Seems to be partially in a different currency/language, dont think its really accurate, unless this is a user profile. Seems to be recharging not really a profile screen, no text button in middle, only recharge, it shows info but idk if its about user.',\n",
    "    'I think this app will redirect to log in website, this also can be canceled.',\n",
    "    'Again, no use describing the app in a foreign language when the user is English. The screenshot looks relatively clear to use and well describes the property on offer. Allowing you to check availability at the bottom is a bonus.',\n",
    "    'It is a screenshot of the definitions.',\n",
    "     'Contents: The screenshot doesnt show much information to know what the app is for. Actions:The screenshot absolutely does not help in understanding what the app is for.',\n",
    "    'The description appears to be in Latin, which, I do not understand.',\n",
    "    'There are no photos, only text. This is something to do with locations.',\n",
    "    'It shows your favorite ads.',\n",
    "    'It tells you how to log in, but not what it does.',\n",
    "    'It shows the favourite ads.',\n",
    "    'Brief explanation. Provides no detail to help the user.',\n",
    "    'Music Charts.',\n",
    "    'a screenshot of a facebook app.',\n",
    "    'It is informative screen of some app.',\n",
    "    'A post by the user ;Broken; posted yesterday.',\n",
    "    'The description just says that its a screenshot. Theres no instructions.',\n",
    "    'It is profile screen of some product.',\n",
    "    'Its an editor app but it is not very intuitive or easy.',\n",
    "    'It looks like you put your postcode in and search, but there is no description to tell you this.',\n",
    "    'List of Country names in their native language.',\n",
    "    'This is something to do with areas, such as Dubai.',\n",
    "    'It shows lots of different language option for you to select.',\n",
    "    'an app showing plenty country.',\n",
    "    'It describes how talkative a person is.',\n",
    "    'The description reads ;Caption not found;. There is no relation to the app screenshot.',\n",
    "    'The large text on the left of the image is the topic in the center. The text below provides information on this.',\n",
    "    'Simple and easy to understand description that tells you exactly what the screenshot shows.',\n",
    "    'The description appears to be describing what I see in the picture, a music app.',\n",
    "    'The content looks very clear and the description, although not in the style of English I would expect, is relatively easy to understand.',\n",
    "    'A screenshot of the Hoodle app.',\n",
    "    'A skin of a reddit browsing app.',\n",
    "    'n/a, this screenshot is unknown makes no sence.',\n",
    "    'It is accurfate up to a point. The only thing it does not help me understand is the part where you can click the image.',\n",
    "    'This is some news app, it got lots of advertisements and its not usful.',\n",
    "    'The screenshot shows a bit about what the app does but does not give lots of information and doesnt explain how to use it.',\n",
    "    'Theres something of information app.',\n",
    "    'Cellphone camera, all black.',\n",
    "    'looks like a broken web page.',\n",
    "    'I partially agree with the description as screen shows a list of elements, typically arranged in rows, but no large text button component ubicated at the top part of the screen.',\n",
    "    'A list of stories in natural order. I do not know what natural order is? How would I change the order if I wanted to do so? The description is not good. I have no idea what it means.',\n",
    "    'The screenshot is described well but there is not any additional information on how to use the app.',\n",
    "    'The description only says ;a screenshot of a cellphone;, no description of the app.',\n",
    "    'You can see some rows of Arabian which i cant understand and bottom there is an add.',\n",
    "    'Probably the screenshot of cell phone.',\n",
    "    'Part of a tutorial.',\n",
    "    'Background isnt fits with this blue rectangles.',\n",
    "    'we can have the inspiration short stories.',\n",
    "    'Screenshot from messaging app, it has clear design.'\n",
    "]"
   ]
  },
  {
   "cell_type": "code",
   "execution_count": null,
   "metadata": {},
   "outputs": [],
   "source": [
    "summaries = pd.read_table(\"human-descriptions.csv\", names=[\"Main\"], encoding=\"windows-1252\")\n",
    "summaries"
   ]
  },
  {
   "cell_type": "code",
   "execution_count": null,
   "metadata": {},
   "outputs": [],
   "source": [
    "# Split the Main column into two based on delimiter\n",
    "summaries[[\"image_id\", \"caption\"]] = summaries[\"Main\"].str.split(\"\\t\", expand=True)\n",
    "summaries.drop(columns=\"Main\", inplace=True)\n",
    "summaries"
   ]
  },
  {
   "cell_type": "code",
   "execution_count": null,
   "metadata": {},
   "outputs": [],
   "source": [
    "# Remove noisy characters from all strings. These noisy characters were observed during data cleaning\n",
    "def remove_char(value):\n",
    "    new_value = re.sub(r\"&#39;|[¬¥]|&#34|,Äô|â€™|Â|€™|Ã§|Ã¨|&#39\", \"\", value)\n",
    "    new_value2 = re.sub(r\"<br>\", \" \", new_value)\n",
    "\n",
    "    i = 1\n",
    "    while new_value[-(i+1)] == \",\":\n",
    "        i += 1\n",
    "\n",
    "    final_value = new_value2[:-i]\n",
    "\n",
    "    # Ensure every caption ends with an appropraite punctuation\n",
    "    if final_value[-1] in [\".\", \":\", \";\"]:\n",
    "        return final_value\n",
    "    else:\n",
    "        return final_value + \".\"\n",
    "\n",
    "summaries[\"caption\"] = summaries[\"caption\"].map(remove_char)\n",
    "summaries"
   ]
  },
  {
   "cell_type": "code",
   "execution_count": null,
   "metadata": {},
   "outputs": [],
   "source": [
    "# Remove noisy captions\n",
    "summaries = summaries[~summaries[\"caption\"].isin(noisy_captions)].reset_index().drop(columns=\"index\")\n",
    "# summaries.to_csv(\"final_data.csv\", index=False)\n",
    "summaries"
   ]
  },
  {
   "cell_type": "code",
   "execution_count": null,
   "metadata": {},
   "outputs": [],
   "source": [
    "summaries.nunique(axis=0)\n",
    "\n",
    "# You will observe we have images with different types of descriptions."
   ]
  },
  {
   "cell_type": "markdown",
   "metadata": {},
   "source": [
    "### We have 269 unique images with varying descriptions.\n",
    "### Not all the images have descriptions. So, I will split the dataset into two.\n",
    "### The training dataset will be for those whose images have descriptions while the test dataset will be the images without descriptions."
   ]
  },
  {
   "cell_type": "code",
   "execution_count": null,
   "metadata": {},
   "outputs": [],
   "source": [
    "# Create a dataframe from the collected imagefiles and their respective names\n",
    "images_dict = {\"image_id\": filenames, \"image\": images}\n",
    "images_df = pd.DataFrame(images_dict)\n",
    "images_df"
   ]
  },
  {
   "cell_type": "code",
   "execution_count": 14,
   "metadata": {},
   "outputs": [
    {
     "data": {
      "text/plain": [
       "1460"
      ]
     },
     "execution_count": 14,
     "metadata": {},
     "output_type": "execute_result"
    }
   ],
   "source": [
    "# All images are unique\n",
    "images_df[\"image_id\"].nunique()"
   ]
  },
  {
   "cell_type": "markdown",
   "metadata": {},
   "source": [
    "### We have 1460 unique images"
   ]
  },
  {
   "cell_type": "code",
   "execution_count": null,
   "metadata": {},
   "outputs": [],
   "source": [
    "# The training dataframe contains images and corresponding captions\n",
    "mainDf = pd.merge(summaries, images_df, on=\"image_id\")\n",
    "\n",
    "# Some captions are repeated word for word. In that case, we would like to drop duplicates\n",
    "mainDf.drop_duplicates([\"caption\"], inplace=True)\n",
    "\n",
    "mainDf = mainDf.reset_index()\n",
    "mainDf.drop(columns=\"index\", inplace=True)\n",
    "mainDf"
   ]
  },
  {
   "cell_type": "code",
   "execution_count": 16,
   "metadata": {},
   "outputs": [
    {
     "data": {
      "text/plain": [
       "348"
      ]
     },
     "execution_count": 16,
     "metadata": {},
     "output_type": "execute_result"
    }
   ],
   "source": [
    "mainDf.caption.str.len().max()"
   ]
  },
  {
   "cell_type": "markdown",
   "metadata": {},
   "source": [
    "## Split the datasets into test, validation and training samples"
   ]
  },
  {
   "cell_type": "code",
   "execution_count": 17,
   "metadata": {},
   "outputs": [],
   "source": [
    "unique_IDs = mainDf[\"image_id\"].unique()\n",
    "temp_trainingIDs, testIDs = train_test_split(unique_IDs, test_size=0.11, random_state=42)\n",
    "trainingIDs, validationIDs = train_test_split(temp_trainingIDs, test_size=0.07, random_state=42)"
   ]
  },
  {
   "cell_type": "code",
   "execution_count": 18,
   "metadata": {},
   "outputs": [
    {
     "name": "stdout",
     "output_type": "stream",
     "text": [
      "The mean number of captions generated per image is 6.141263940520446\n",
      "The minimum number of captions generated per image is 2\n",
      "The maximum number of captions generated per image is 15\n"
     ]
    }
   ],
   "source": [
    "# How many captions do we have per image\n",
    "cnt_num = mainDf.groupby([\"image_id\"]).count()\n",
    "mean_num = mainDf.groupby([\"image_id\"]).count()[\"caption\"].mean()\n",
    "min_num = mainDf.groupby([\"image_id\"]).count()[\"caption\"].min()\n",
    "max_num = mainDf.groupby([\"image_id\"]).count()[\"caption\"].max()\n",
    "\n",
    "print(\"The mean number of captions generated per image is\", mean_num)\n",
    "print(\"The minimum number of captions generated per image is\", min_num)\n",
    "print(\"The maximum number of captions generated per image is\", max_num)"
   ]
  },
  {
   "cell_type": "code",
   "execution_count": 19,
   "metadata": {},
   "outputs": [],
   "source": [
    "# Prepare training_datasets according to the coco_format\n",
    "trainingDF = mainDf[mainDf[\"image_id\"].isin(trainingIDs)].reset_index().drop(columns=\"index\")\n",
    "\n",
    "def list_captions(col):\n",
    "    final = []\n",
    "    for val in col[\"caption\"].values:\n",
    "        final.append(val)\n",
    "    \n",
    "    return sorted(final)\n",
    "\n",
    "\n",
    "validationDF = mainDf[mainDf[\"image_id\"].isin(validationIDs)].reset_index().drop(columns=[\"index\"]).groupby([\"image\", \"image_id\"]).apply(list_captions).reset_index(name=\"caption\")\n",
    "testingDF = mainDf[mainDf[\"image_id\"].isin(testIDs)].reset_index().drop(columns=[\"index\"]).groupby([\"image\", \"image_id\"]).apply(list_captions).reset_index(name=\"caption\")"
   ]
  },
  {
   "cell_type": "code",
   "execution_count": 20,
   "metadata": {},
   "outputs": [],
   "source": [
    "# My own version of coco_karpathy_val_gt.json\n",
    "\n",
    "final_result = {}\n",
    "val2 = mainDf[mainDf[\"image_id\"].isin(validationIDs)].reset_index().rename(columns={\"index\": \"id\"}).drop(columns=[\"image\"])\n",
    "val_gt = val2.astype({'image_id': \"int64\"})\n",
    "val_gt['id'] = val_gt['id'] + 47777\n",
    "final_result[\"annotations\"] = val_gt[['image_id', 'caption', 'id']].sort_values(by=['image_id', 'caption']).to_dict('records')\n",
    "\n",
    "final_result[\"images\"] = val_gt[['image_id']].rename(columns={'image_id': 'id'}).drop_duplicates().to_dict('records')\n",
    "final_result\n",
    "\n",
    "with open(\"validation_gt.json\", \"w\") as outfile:\n",
    "    json.dump(final_result, outfile)"
   ]
  },
  {
   "cell_type": "code",
   "execution_count": 21,
   "metadata": {},
   "outputs": [],
   "source": [
    "# My own version of coco_karpathy_test_gt.json\n",
    "final_result2 = {}\n",
    "val_test = mainDf[mainDf[\"image_id\"].isin(testIDs)].reset_index().rename(columns={\"index\": \"id\"}).drop(columns=[\"image\"])\n",
    "val_test_gt = val_test.astype({'image_id': \"int64\"})\n",
    "val_test_gt['id'] = val_test_gt['id'] + 47777\n",
    "\n",
    "final_result2[\"annotations\"] = val_test_gt[['image_id', 'caption', 'id']].sort_values(by=['image_id', 'caption']).to_dict('records')\n",
    "final_result2[\"images\"] = val_test_gt[['image_id']].rename(columns={'image_id': 'id'}).drop_duplicates().to_dict('records')\n",
    "final_result2\n",
    "\n",
    "with open(\"test_gt.json\", \"w\") as outfile:\n",
    "    json.dump(final_result2, outfile)"
   ]
  },
  {
   "cell_type": "code",
   "execution_count": 22,
   "metadata": {},
   "outputs": [],
   "source": [
    "# Save final files\n",
    "trainingDF[['caption', 'image', 'image_id']].to_json(\"train.json\",orient='records')\n",
    "validationDF[['image', 'caption']].to_json(\"validation.json\",orient='records')\n",
    "testingDF[['image', 'caption']].to_json(\"testing.json\",orient='records')"
   ]
  }
 ],
 "metadata": {
  "interpreter": {
   "hash": "aee8b7b246df8f9039afb4144a1f6fd8d2ca17a180786b69acc140d282b71a49"
  },
  "kernelspec": {
   "display_name": "venv_iris",
   "language": "python",
   "name": "venv_iris"
  },
  "language_info": {
   "codemirror_mode": {
    "name": "ipython",
    "version": 3
   },
   "file_extension": ".py",
   "mimetype": "text/x-python",
   "name": "python",
   "nbconvert_exporter": "python",
   "pygments_lexer": "ipython3",
   "version": "3.8.6"
  }
 },
 "nbformat": 4,
 "nbformat_minor": 2
}
